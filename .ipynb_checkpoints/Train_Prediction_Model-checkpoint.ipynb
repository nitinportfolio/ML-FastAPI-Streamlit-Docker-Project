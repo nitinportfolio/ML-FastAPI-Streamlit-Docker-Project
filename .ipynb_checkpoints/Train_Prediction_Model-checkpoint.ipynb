{
 "cells": [
  {
   "cell_type": "markdown",
   "id": "0d855019",
   "metadata": {},
   "source": [
    "# Import Packages"
   ]
  },
  {
   "cell_type": "code",
   "execution_count": 23,
   "id": "ca397def",
   "metadata": {},
   "outputs": [],
   "source": [
    "## Data Analysis Packages\n",
    "import os\n",
    "import sys\n",
    "import numpy as np\n",
    "import pandas as pd\n",
    "import joblib\n",
    "\n",
    "## Machine Learning Packages\n",
    "import sklearn\n",
    "import lightgbm as lgb\n",
    "from sklearn.model_selection import train_test_split\n",
    "from lightgbm import LGBMClassifier\n",
    "from sklearn.metrics import classification_report, roc_curve, auc\n",
    "from category_encoders import OrdinalEncoder\n",
    "\n",
    "import warnings\n",
    "warnings.filterwarnings(\"ignore\")"
   ]
  },
  {
   "cell_type": "code",
   "execution_count": 24,
   "id": "78a0db03",
   "metadata": {},
   "outputs": [
    {
     "name": "stdout",
     "output_type": "stream",
     "text": [
      "Pandas Version: 1.5.3\n",
      "Numpy Version: 1.23.5\n",
      "scikit-learn Version: 1.2.1\n",
      "joblib Version: 1.1.1\n",
      "lightgbm Version: 4.1.0\n"
     ]
    }
   ],
   "source": [
    "\n",
    "print(f\"Pandas Version: {pd.__version__}\")\n",
    "print(f\"Numpy Version: {np.__version__}\")\n",
    "print(f\"scikit-learn Version: {sklearn.__version__}\")\n",
    "print(f\"joblib Version: {joblib.__version__}\")\n",
    "print(f\"lightgbm Version: {lgb.__version__}\")"
   ]
  },
  {
   "cell_type": "code",
   "execution_count": 25,
   "id": "52158052",
   "metadata": {},
   "outputs": [
    {
     "data": {
      "text/plain": [
       "'e:\\\\XilyticaTrainingRepo\\\\API Projects\\\\ML-FastAP-Streamlit-Docker'"
      ]
     },
     "execution_count": 25,
     "metadata": {},
     "output_type": "execute_result"
    }
   ],
   "source": [
    "pwd"
   ]
  },
  {
   "cell_type": "markdown",
   "id": "bcca9879",
   "metadata": {},
   "source": [
    "# Load Data"
   ]
  },
  {
   "cell_type": "code",
   "execution_count": 31,
   "id": "5bd6d007",
   "metadata": {},
   "outputs": [
    {
     "name": "stdout",
     "output_type": "stream",
     "text": [
      "The dataset has 215 samples with 14 features.\n"
     ]
    }
   ],
   "source": [
    "# Files\n",
    "data_file = \"./data/Placement_Data_Full_Class.csv\"\n",
    "\n",
    "# Load train data\n",
    "try:\n",
    "    data = pd.read_csv(data_file)\n",
    "    print(\"The dataset has {} samples with {} features.\".format(*data.shape))\n",
    "except:\n",
    "    print(\"The dataset could not be loaded. Is the dataset missing?\")\n",
    "    "
   ]
  },
  {
   "cell_type": "code",
   "execution_count": 32,
   "id": "e8820feb",
   "metadata": {},
   "outputs": [
    {
     "data": {
      "text/html": [
       "<div>\n",
       "<style scoped>\n",
       "    .dataframe tbody tr th:only-of-type {\n",
       "        vertical-align: middle;\n",
       "    }\n",
       "\n",
       "    .dataframe tbody tr th {\n",
       "        vertical-align: top;\n",
       "    }\n",
       "\n",
       "    .dataframe thead th {\n",
       "        text-align: right;\n",
       "    }\n",
       "</style>\n",
       "<table border=\"1\" class=\"dataframe\">\n",
       "  <thead>\n",
       "    <tr style=\"text-align: right;\">\n",
       "      <th></th>\n",
       "      <th>sl_no</th>\n",
       "      <th>gender</th>\n",
       "      <th>ssc_p</th>\n",
       "      <th>ssc_b</th>\n",
       "      <th>hsc_p</th>\n",
       "      <th>hsc_b</th>\n",
       "      <th>hsc_s</th>\n",
       "      <th>degree_p</th>\n",
       "      <th>degree_t</th>\n",
       "      <th>workex</th>\n",
       "      <th>etest_p</th>\n",
       "      <th>specialisation</th>\n",
       "      <th>mba_p</th>\n",
       "      <th>status</th>\n",
       "    </tr>\n",
       "  </thead>\n",
       "  <tbody>\n",
       "    <tr>\n",
       "      <th>0</th>\n",
       "      <td>1</td>\n",
       "      <td>M</td>\n",
       "      <td>67.00</td>\n",
       "      <td>Others</td>\n",
       "      <td>91.00</td>\n",
       "      <td>Others</td>\n",
       "      <td>Commerce</td>\n",
       "      <td>58.00</td>\n",
       "      <td>Sci&amp;Tech</td>\n",
       "      <td>No</td>\n",
       "      <td>55.0</td>\n",
       "      <td>Mkt&amp;HR</td>\n",
       "      <td>58.80</td>\n",
       "      <td>Placed</td>\n",
       "    </tr>\n",
       "    <tr>\n",
       "      <th>1</th>\n",
       "      <td>2</td>\n",
       "      <td>M</td>\n",
       "      <td>79.33</td>\n",
       "      <td>Central</td>\n",
       "      <td>78.33</td>\n",
       "      <td>Others</td>\n",
       "      <td>Science</td>\n",
       "      <td>77.48</td>\n",
       "      <td>Sci&amp;Tech</td>\n",
       "      <td>Yes</td>\n",
       "      <td>86.5</td>\n",
       "      <td>Mkt&amp;Fin</td>\n",
       "      <td>66.28</td>\n",
       "      <td>Placed</td>\n",
       "    </tr>\n",
       "    <tr>\n",
       "      <th>2</th>\n",
       "      <td>3</td>\n",
       "      <td>M</td>\n",
       "      <td>65.00</td>\n",
       "      <td>Central</td>\n",
       "      <td>68.00</td>\n",
       "      <td>Central</td>\n",
       "      <td>Arts</td>\n",
       "      <td>64.00</td>\n",
       "      <td>Comm&amp;Mgmt</td>\n",
       "      <td>No</td>\n",
       "      <td>75.0</td>\n",
       "      <td>Mkt&amp;Fin</td>\n",
       "      <td>57.80</td>\n",
       "      <td>Placed</td>\n",
       "    </tr>\n",
       "    <tr>\n",
       "      <th>3</th>\n",
       "      <td>4</td>\n",
       "      <td>M</td>\n",
       "      <td>56.00</td>\n",
       "      <td>Central</td>\n",
       "      <td>52.00</td>\n",
       "      <td>Central</td>\n",
       "      <td>Science</td>\n",
       "      <td>52.00</td>\n",
       "      <td>Sci&amp;Tech</td>\n",
       "      <td>No</td>\n",
       "      <td>66.0</td>\n",
       "      <td>Mkt&amp;HR</td>\n",
       "      <td>59.43</td>\n",
       "      <td>Not Placed</td>\n",
       "    </tr>\n",
       "    <tr>\n",
       "      <th>4</th>\n",
       "      <td>5</td>\n",
       "      <td>M</td>\n",
       "      <td>85.80</td>\n",
       "      <td>Central</td>\n",
       "      <td>73.60</td>\n",
       "      <td>Central</td>\n",
       "      <td>Commerce</td>\n",
       "      <td>73.30</td>\n",
       "      <td>Comm&amp;Mgmt</td>\n",
       "      <td>No</td>\n",
       "      <td>96.8</td>\n",
       "      <td>Mkt&amp;Fin</td>\n",
       "      <td>55.50</td>\n",
       "      <td>Placed</td>\n",
       "    </tr>\n",
       "  </tbody>\n",
       "</table>\n",
       "</div>"
      ],
      "text/plain": [
       "   sl_no gender  ssc_p    ssc_b  ...  etest_p specialisation  mba_p      status\n",
       "0      1      M  67.00   Others  ...     55.0         Mkt&HR  58.80      Placed\n",
       "1      2      M  79.33  Central  ...     86.5        Mkt&Fin  66.28      Placed\n",
       "2      3      M  65.00  Central  ...     75.0        Mkt&Fin  57.80      Placed\n",
       "3      4      M  56.00  Central  ...     66.0         Mkt&HR  59.43  Not Placed\n",
       "4      5      M  85.80  Central  ...     96.8        Mkt&Fin  55.50      Placed\n",
       "\n",
       "[5 rows x 14 columns]"
      ]
     },
     "execution_count": 32,
     "metadata": {},
     "output_type": "execute_result"
    }
   ],
   "source": [
    "data.head()"
   ]
  },
  {
   "cell_type": "markdown",
   "id": "de9c0e88",
   "metadata": {},
   "source": [
    "## Field\tDescription\n",
    "* sl_no\tSerial Number\n",
    "* gender\tMale= ‘M’ (or) Female= ‘F’\n",
    "* ssc_p\tSSC (10th) Percentage\n",
    "* ssc_b\tSSC Board of Education. - Value = [Central (or) Others]\n",
    "* hsc_p\tHSC (12th) percentage\n",
    "* hsc_b\tHSC Board of Education - Value = Central (or) Others\n",
    "* hsc_s\tSpecialization in HSC\n",
    "* degree_p\tDegree Percentage\n",
    "* degree_t\tUnder Graduation (Degree type), Field of degree education\n",
    "* workex\tWork Experience - Value = Yes (or) No\n",
    "* etest_p\tEmployability test percentage (conducted by the college)\n",
    "* specialisation\tPost Graduation(MBA)- Specialization\n",
    "* mba_p\tMBA percentage\n",
    "* status\tStatus of placement - Value = Placed (or) Not placed\n"
   ]
  },
  {
   "cell_type": "code",
   "execution_count": 33,
   "id": "d65ca2e7",
   "metadata": {},
   "outputs": [
    {
     "name": "stdout",
     "output_type": "stream",
     "text": [
      "<class 'pandas.core.frame.DataFrame'>\n",
      "RangeIndex: 215 entries, 0 to 214\n",
      "Data columns (total 14 columns):\n",
      " #   Column          Non-Null Count  Dtype  \n",
      "---  ------          --------------  -----  \n",
      " 0   sl_no           215 non-null    int64  \n",
      " 1   gender          215 non-null    object \n",
      " 2   ssc_p           215 non-null    float64\n",
      " 3   ssc_b           215 non-null    object \n",
      " 4   hsc_p           215 non-null    float64\n",
      " 5   hsc_b           215 non-null    object \n",
      " 6   hsc_s           215 non-null    object \n",
      " 7   degree_p        215 non-null    float64\n",
      " 8   degree_t        215 non-null    object \n",
      " 9   workex          215 non-null    object \n",
      " 10  etest_p         215 non-null    float64\n",
      " 11  specialisation  215 non-null    object \n",
      " 12  mba_p           215 non-null    float64\n",
      " 13  status          215 non-null    object \n",
      "dtypes: float64(5), int64(1), object(8)\n",
      "memory usage: 23.6+ KB\n"
     ]
    }
   ],
   "source": [
    "data.info()"
   ]
  },
  {
   "cell_type": "markdown",
   "id": "1d14d1f4",
   "metadata": {},
   "source": [
    "# Prepare Data for Model Training"
   ]
  },
  {
   "cell_type": "code",
   "execution_count": 34,
   "id": "092cb52d",
   "metadata": {},
   "outputs": [],
   "source": [
    "# Featrues that are not required\n",
    "exclude_feature = [\"sl_no\",\"status\"]\n",
    "\n",
    "# Define Target Columns\n",
    "target = data[\"status\"].map({\"Placed\":0, \"Not Placed\":1})\n",
    "\n",
    "# Define numeric & categorical features\n",
    "numeric_columns = data.select_dtypes(include=[\"int64\",\"float64\"]).columns.tolist()\n",
    "categorical_columns = data.select_dtypes(include=[\"object\"]).columns.tolist()\n",
    "numeric_features = [col for col in numeric_columns if col not in exclude_feature]\n",
    "categorical_features = [col for col in categorical_columns if col not in exclude_feature]\n",
    "\n",
    "# Define final feature list for training & validation\n",
    "features = numeric_features + categorical_features\n",
    "\n",
    "# final data for training and validation\n",
    "data = data[features]\n",
    "data = data.fillna(0)\n",
    "\n",
    "# split data in train & validation\n",
    "X_train, X_valid, y_train, y_valid = train_test_split(data, target, test_size=0.15, random_state=101)\n",
    "X_valid.to_json(path_or_buf=\"./data/valid.json\",orient = \"records\", lines = True)\n",
    "\n",
    "# Perform label encoding for categorical variable\n",
    "le = OrdinalEncoder(cols = categorical_features)\n",
    "le.fit(X_train[categorical_features])\n",
    "X_train[categorical_features] = le.transform(X_train[categorical_features])\n",
    "X_valid[categorical_features] = le.transform(X_valid[categorical_features])"
   ]
  },
  {
   "cell_type": "markdown",
   "id": "0703b0dc",
   "metadata": {},
   "source": [
    "# Train and Evaluate Model"
   ]
  },
  {
   "cell_type": "code",
   "execution_count": 36,
   "id": "9b6913f6",
   "metadata": {},
   "outputs": [
    {
     "name": "stdout",
     "output_type": "stream",
     "text": [
      "[LightGBM] [Info] Number of positive: 55, number of negative: 127\n",
      "[LightGBM] [Info] Auto-choosing col-wise multi-threading, the overhead of testing was 0.000100 seconds.\n",
      "You can set `force_col_wise=true` to remove the overhead.\n",
      "[LightGBM] [Info] Total Bins 254\n",
      "[LightGBM] [Info] Number of data points in the train set: 182, number of used features: 12\n",
      "[LightGBM] [Info] [binary:BoostFromScore]: pavg=0.302198 -> initscore=-0.836854\n",
      "[LightGBM] [Info] Start training from score -0.836854\n",
      "[LightGBM] [Warning] No further splits with positive gain, best gain: -inf\n",
      "[LightGBM] [Warning] No further splits with positive gain, best gain: -inf\n",
      "[LightGBM] [Warning] No further splits with positive gain, best gain: -inf\n",
      "[LightGBM] [Warning] No further splits with positive gain, best gain: -inf\n",
      "[LightGBM] [Warning] No further splits with positive gain, best gain: -inf\n",
      "[LightGBM] [Warning] No further splits with positive gain, best gain: -inf\n",
      "[LightGBM] [Warning] No further splits with positive gain, best gain: -inf\n",
      "[LightGBM] [Warning] No further splits with positive gain, best gain: -inf\n",
      "[LightGBM] [Warning] No further splits with positive gain, best gain: -inf\n",
      "[LightGBM] [Warning] No further splits with positive gain, best gain: -inf\n",
      "[LightGBM] [Warning] No further splits with positive gain, best gain: -inf\n",
      "[LightGBM] [Warning] No further splits with positive gain, best gain: -inf\n",
      "[LightGBM] [Warning] No further splits with positive gain, best gain: -inf\n",
      "[LightGBM] [Warning] No further splits with positive gain, best gain: -inf\n",
      "[LightGBM] [Warning] No further splits with positive gain, best gain: -inf\n",
      "[LightGBM] [Warning] No further splits with positive gain, best gain: -inf\n",
      "[LightGBM] [Warning] No further splits with positive gain, best gain: -inf\n",
      "[LightGBM] [Warning] No further splits with positive gain, best gain: -inf\n",
      "[LightGBM] [Warning] No further splits with positive gain, best gain: -inf\n",
      "[LightGBM] [Warning] No further splits with positive gain, best gain: -inf\n",
      "[LightGBM] [Warning] No further splits with positive gain, best gain: -inf\n",
      "[LightGBM] [Warning] No further splits with positive gain, best gain: -inf\n",
      "[LightGBM] [Warning] No further splits with positive gain, best gain: -inf\n",
      "[LightGBM] [Warning] No further splits with positive gain, best gain: -inf\n",
      "[LightGBM] [Warning] No further splits with positive gain, best gain: -inf\n",
      "[LightGBM] [Warning] No further splits with positive gain, best gain: -inf\n",
      "[LightGBM] [Warning] No further splits with positive gain, best gain: -inf\n",
      "[LightGBM] [Warning] No further splits with positive gain, best gain: -inf\n",
      "[LightGBM] [Warning] No further splits with positive gain, best gain: -inf\n",
      "[LightGBM] [Warning] No further splits with positive gain, best gain: -inf\n",
      "[LightGBM] [Warning] No further splits with positive gain, best gain: -inf\n",
      "[LightGBM] [Warning] No further splits with positive gain, best gain: -inf\n",
      "[LightGBM] [Warning] No further splits with positive gain, best gain: -inf\n",
      "[LightGBM] [Warning] No further splits with positive gain, best gain: -inf\n",
      "[LightGBM] [Warning] No further splits with positive gain, best gain: -inf\n",
      "[LightGBM] [Warning] No further splits with positive gain, best gain: -inf\n",
      "[LightGBM] [Warning] No further splits with positive gain, best gain: -inf\n",
      "[LightGBM] [Warning] No further splits with positive gain, best gain: -inf\n",
      "[LightGBM] [Warning] No further splits with positive gain, best gain: -inf\n",
      "[LightGBM] [Warning] No further splits with positive gain, best gain: -inf\n",
      "[LightGBM] [Warning] No further splits with positive gain, best gain: -inf\n",
      "[LightGBM] [Warning] No further splits with positive gain, best gain: -inf\n",
      "[LightGBM] [Warning] No further splits with positive gain, best gain: -inf\n",
      "[LightGBM] [Warning] No further splits with positive gain, best gain: -inf\n",
      "[LightGBM] [Warning] No further splits with positive gain, best gain: -inf\n",
      "[LightGBM] [Warning] No further splits with positive gain, best gain: -inf\n",
      "[LightGBM] [Warning] No further splits with positive gain, best gain: -inf\n",
      "[LightGBM] [Warning] No further splits with positive gain, best gain: -inf\n",
      "[LightGBM] [Warning] No further splits with positive gain, best gain: -inf\n",
      "[LightGBM] [Warning] No further splits with positive gain, best gain: -inf\n",
      "[LightGBM] [Warning] No further splits with positive gain, best gain: -inf\n",
      "[LightGBM] [Warning] No further splits with positive gain, best gain: -inf\n",
      "[LightGBM] [Warning] No further splits with positive gain, best gain: -inf\n",
      "[LightGBM] [Warning] No further splits with positive gain, best gain: -inf\n",
      "[LightGBM] [Warning] No further splits with positive gain, best gain: -inf\n",
      "[LightGBM] [Warning] No further splits with positive gain, best gain: -inf\n",
      "[LightGBM] [Warning] No further splits with positive gain, best gain: -inf\n",
      "[LightGBM] [Warning] No further splits with positive gain, best gain: -inf\n",
      "[LightGBM] [Warning] No further splits with positive gain, best gain: -inf\n",
      "[LightGBM] [Warning] No further splits with positive gain, best gain: -inf\n",
      "[LightGBM] [Warning] No further splits with positive gain, best gain: -inf\n",
      "[LightGBM] [Warning] No further splits with positive gain, best gain: -inf\n",
      "[LightGBM] [Warning] No further splits with positive gain, best gain: -inf\n",
      "[LightGBM] [Warning] No further splits with positive gain, best gain: -inf\n",
      "[LightGBM] [Warning] No further splits with positive gain, best gain: -inf\n",
      "[LightGBM] [Warning] No further splits with positive gain, best gain: -inf\n",
      "[LightGBM] [Warning] No further splits with positive gain, best gain: -inf\n",
      "[LightGBM] [Warning] No further splits with positive gain, best gain: -inf\n",
      "[LightGBM] [Warning] No further splits with positive gain, best gain: -inf\n",
      "[LightGBM] [Warning] No further splits with positive gain, best gain: -inf\n",
      "[LightGBM] [Warning] No further splits with positive gain, best gain: -inf\n",
      "[LightGBM] [Warning] No further splits with positive gain, best gain: -inf\n",
      "[LightGBM] [Warning] No further splits with positive gain, best gain: -inf\n",
      "[LightGBM] [Warning] No further splits with positive gain, best gain: -inf\n",
      "[LightGBM] [Warning] No further splits with positive gain, best gain: -inf\n",
      "[LightGBM] [Warning] No further splits with positive gain, best gain: -inf\n",
      "[LightGBM] [Warning] No further splits with positive gain, best gain: -inf\n",
      "[LightGBM] [Warning] No further splits with positive gain, best gain: -inf\n",
      "[LightGBM] [Warning] No further splits with positive gain, best gain: -inf\n",
      "[LightGBM] [Warning] No further splits with positive gain, best gain: -inf\n",
      "[LightGBM] [Warning] No further splits with positive gain, best gain: -inf\n",
      "[LightGBM] [Warning] No further splits with positive gain, best gain: -inf\n",
      "[LightGBM] [Warning] No further splits with positive gain, best gain: -inf\n",
      "[LightGBM] [Warning] No further splits with positive gain, best gain: -inf\n",
      "[LightGBM] [Warning] No further splits with positive gain, best gain: -inf\n",
      "[LightGBM] [Warning] No further splits with positive gain, best gain: -inf\n",
      "[LightGBM] [Warning] No further splits with positive gain, best gain: -inf\n",
      "[LightGBM] [Warning] No further splits with positive gain, best gain: -inf\n",
      "[LightGBM] [Warning] No further splits with positive gain, best gain: -inf\n",
      "[LightGBM] [Warning] No further splits with positive gain, best gain: -inf\n",
      "[LightGBM] [Warning] No further splits with positive gain, best gain: -inf\n",
      "[LightGBM] [Warning] No further splits with positive gain, best gain: -inf\n",
      "[LightGBM] [Warning] No further splits with positive gain, best gain: -inf\n",
      "[LightGBM] [Warning] No further splits with positive gain, best gain: -inf\n",
      "[LightGBM] [Warning] No further splits with positive gain, best gain: -inf\n",
      "[LightGBM] [Warning] No further splits with positive gain, best gain: -inf\n",
      "[LightGBM] [Warning] No further splits with positive gain, best gain: -inf\n",
      "[LightGBM] [Warning] No further splits with positive gain, best gain: -inf\n",
      "[LightGBM] [Warning] No further splits with positive gain, best gain: -inf\n",
      "[LightGBM] [Warning] No further splits with positive gain, best gain: -inf\n",
      "=================================\n",
      "Vlidation AUC:0.8809523809523809\n",
      "=================================\n"
     ]
    }
   ],
   "source": [
    "# Perform model training\n",
    "clf = LGBMClassifier(random_state=101)\n",
    "clf.fit(X_train, y_train)\n",
    "\n",
    "# Perform model evaluation\n",
    "valid_prediction = clf.predict_proba(X_valid)[:,1]\n",
    "fpr, tpr, thresholds = roc_curve(y_valid, valid_prediction)\n",
    "roc_auc = auc(fpr, tpr) # compute area under the curve\n",
    "\n",
    "print(\"=================================\")\n",
    "print(\"Vlidation AUC:{}\".format(roc_auc))\n",
    "print(\"=================================\")"
   ]
  },
  {
   "cell_type": "code",
   "execution_count": 38,
   "id": "a4dae5d7",
   "metadata": {},
   "outputs": [
    {
     "data": {
      "text/plain": [
       "array([[9.24210923e-01, 7.57890765e-02],\n",
       "       [9.99613885e-01, 3.86115271e-04],\n",
       "       [9.98621379e-01, 1.37862096e-03],\n",
       "       [9.97476866e-01, 2.52313356e-03],\n",
       "       [9.21598799e-01, 7.84012006e-02],\n",
       "       [2.00586568e-01, 7.99413432e-01],\n",
       "       [5.53818126e-02, 9.44618187e-01],\n",
       "       [9.27148202e-01, 7.28517981e-02],\n",
       "       [6.49369799e-01, 3.50630201e-01],\n",
       "       [1.38836747e-02, 9.86116325e-01],\n",
       "       [2.71790829e-01, 7.28209171e-01],\n",
       "       [6.42989888e-01, 3.57010112e-01],\n",
       "       [2.64346459e-01, 7.35653541e-01],\n",
       "       [5.26997119e-01, 4.73002881e-01],\n",
       "       [9.85984174e-01, 1.40158262e-02],\n",
       "       [9.96138180e-01, 3.86182020e-03],\n",
       "       [1.16840832e-01, 8.83159168e-01],\n",
       "       [9.84670599e-01, 1.53294010e-02],\n",
       "       [3.34459898e-03, 9.96655401e-01],\n",
       "       [4.48022826e-01, 5.51977174e-01],\n",
       "       [9.90272324e-01, 9.72767576e-03],\n",
       "       [1.03270440e-02, 9.89672956e-01],\n",
       "       [9.77377860e-01, 2.26221405e-02],\n",
       "       [9.58278177e-01, 4.17218233e-02],\n",
       "       [9.66499739e-01, 3.35002613e-02],\n",
       "       [5.63019756e-01, 4.36980244e-01],\n",
       "       [9.96926767e-01, 3.07323257e-03],\n",
       "       [2.27375304e-02, 9.77262470e-01],\n",
       "       [5.60273194e-01, 4.39726806e-01],\n",
       "       [9.99415389e-01, 5.84611317e-04],\n",
       "       [9.90153138e-01, 9.84686206e-03],\n",
       "       [9.19261446e-01, 8.07385542e-02],\n",
       "       [9.96485253e-01, 3.51474695e-03]])"
      ]
     },
     "execution_count": 38,
     "metadata": {},
     "output_type": "execute_result"
    }
   ],
   "source": [
    "clf.predict_proba(X_valid)"
   ]
  },
  {
   "cell_type": "code",
   "execution_count": 39,
   "id": "189f0004",
   "metadata": {},
   "outputs": [
    {
     "data": {
      "text/plain": [
       "array([7.57890765e-02, 3.86115271e-04, 1.37862096e-03, 2.52313356e-03,\n",
       "       7.84012006e-02, 7.99413432e-01, 9.44618187e-01, 7.28517981e-02,\n",
       "       3.50630201e-01, 9.86116325e-01, 7.28209171e-01, 3.57010112e-01,\n",
       "       7.35653541e-01, 4.73002881e-01, 1.40158262e-02, 3.86182020e-03,\n",
       "       8.83159168e-01, 1.53294010e-02, 9.96655401e-01, 5.51977174e-01,\n",
       "       9.72767576e-03, 9.89672956e-01, 2.26221405e-02, 4.17218233e-02,\n",
       "       3.35002613e-02, 4.36980244e-01, 3.07323257e-03, 9.77262470e-01,\n",
       "       4.39726806e-01, 5.84611317e-04, 9.84686206e-03, 8.07385542e-02,\n",
       "       3.51474695e-03])"
      ]
     },
     "execution_count": 39,
     "metadata": {},
     "output_type": "execute_result"
    }
   ],
   "source": [
    "clf.predict_proba(X_valid)[:,1]"
   ]
  },
  {
   "cell_type": "code",
   "execution_count": 40,
   "id": "857542b4",
   "metadata": {},
   "outputs": [
    {
     "name": "stdout",
     "output_type": "stream",
     "text": [
      "              precision    recall  f1-score   support\n",
      "\n",
      "           0       0.78      0.86      0.82        21\n",
      "           1       0.70      0.58      0.64        12\n",
      "\n",
      "    accuracy                           0.76        33\n",
      "   macro avg       0.74      0.72      0.73        33\n",
      "weighted avg       0.75      0.76      0.75        33\n",
      "\n"
     ]
    }
   ],
   "source": [
    "# Perform model evaluation \n",
    "print(classification_report(y_valid,clf.predict(X_valid)))"
   ]
  },
  {
   "cell_type": "markdown",
   "id": "f48bd751",
   "metadata": {},
   "source": [
    "# Save Model Artifaction"
   ]
  },
  {
   "cell_type": "code",
   "execution_count": 42,
   "id": "3da16d4c",
   "metadata": {},
   "outputs": [
    {
     "data": {
      "text/plain": [
       "['./model/categorical_features.joblib']"
      ]
     },
     "execution_count": 42,
     "metadata": {},
     "output_type": "execute_result"
    }
   ],
   "source": [
    "joblib.dump(le, './model/label_encoder.joblib')\n",
    "joblib.dump(clf, './model/lgb_model.joblib')\n",
    "joblib.dump(features, './model/features.joblib')\n",
    "joblib.dump(categorical_features, './model/categorical_features.joblib')"
   ]
  },
  {
   "cell_type": "markdown",
   "id": "f9c1ed74",
   "metadata": {},
   "source": [
    "# Sending request to Local FastAPI model endpoint"
   ]
  },
  {
   "cell_type": "code",
   "execution_count": 86,
   "id": "c088fada",
   "metadata": {},
   "outputs": [],
   "source": [
    "# Calling/ invoking Machine learning endpoint"
   ]
  },
  {
   "cell_type": "code",
   "execution_count": 81,
   "id": "21d21e76",
   "metadata": {},
   "outputs": [
    {
     "name": "stdout",
     "output_type": "stream",
     "text": [
      "{\"prediction\":[\"Placed\"]}\n"
     ]
    }
   ],
   "source": [
    "import requests\n",
    "data = {\n",
    "  \"sl_no\": 112,\n",
    "  \"ssc_p\": 84.0,\n",
    "  \"hsc_p\": 90.9,\n",
    "  \"degree_p\": 64.5,\n",
    "  \"etest_p\": 86.04,\n",
    "  \"mba_p\": 59.42,\n",
    "  \"gender\": \"M\",\n",
    "  \"ssc_b\": \"Others\",\n",
    "  \"hsc_b\": \"Others\",\n",
    "  \"hsc_s\": \"Science\",\n",
    "  \"degree_t\": \"Sci&Tech\",\n",
    "  \"workex\": \"No\",\n",
    "  \"specialisation\": \"Mkt&Fin\"\n",
    "}\n",
    "response = requests.post(\"http://127.0.0.1:8000/predict\", json=data)\n",
    "print(response.text)"
   ]
  },
  {
   "cell_type": "code",
   "execution_count": 85,
   "id": "f54439dd",
   "metadata": {},
   "outputs": [
    {
     "name": "stdout",
     "output_type": "stream",
     "text": [
      "{\"prediction\":[\"Not Placed\"]}\n"
     ]
    }
   ],
   "source": [
    "data = {\n",
    "  \"sl_no\": 113,\n",
    "  \"ssc_p\": 52.0,\n",
    "  \"hsc_p\": 57.0,\n",
    "  \"degree_p\": 50.8,\n",
    "  \"etest_p\": 67.0,\n",
    "  \"mba_p\": 62.79,\n",
    "  \"gender\": \"M\",\n",
    "  \"ssc_b\": \"Central\",\n",
    "  \"hsc_b\": \"Central\",\n",
    "  \"hsc_s\": \"Commerce\",\n",
    "  \"degree_t\": \"Comm&Mgmt\",\n",
    "  \"workex\": \"No\",\n",
    "  \"specialisation\": \"Mkt&HR\"\n",
    "}\n",
    "response = requests.post(\"http://127.0.0.1:8000/predict\", json=data)\n",
    "print(response.text)"
   ]
  },
  {
   "cell_type": "code",
   "execution_count": 84,
   "id": "aa8c30e3",
   "metadata": {},
   "outputs": [
    {
     "name": "stdout",
     "output_type": "stream",
     "text": [
      "{\"prediction\":[\"Placed\"]}\n"
     ]
    }
   ],
   "source": [
    "val = {\n",
    "  \"sl_no\": 112,\n",
    "  \"ssc_p\": 84.0,\n",
    "  \"hsc_p\": 90.9,\n",
    "  \"degree_p\": 64.5,\n",
    "  \"etest_p\": 86.04,\n",
    "  \"mba_p\": 59.42,\n",
    "  \"gender\": \"M\",\n",
    "  \"ssc_b\": \"Others\",\n",
    "  \"hsc_b\": \"Others\",\n",
    "  \"hsc_s\": \"Science\",\n",
    "  \"degree_t\": \"Sci&Tech\",\n",
    "  \"workex\": \"No\",\n",
    "  \"specialisation\": \"Mkt&Fin\"\n",
    "}\n",
    "response = requests.post(\"http://127.0.0.1:8000/predict\", json=data)\n",
    "print(response.text)"
   ]
  },
  {
   "cell_type": "code",
   "execution_count": 79,
   "id": "c8fdecee",
   "metadata": {},
   "outputs": [
    {
     "name": "stdout",
     "output_type": "stream",
     "text": [
      "{\"prediction\":[\"Placed\"]}\n"
     ]
    }
   ],
   "source": [
    "import requests\n",
    "data = {\n",
    "  \"sl_no\": 12,\n",
    "  \"ssc_p\": 90.0,\n",
    "  \"hsc_p\": 10.9,\n",
    "  \"degree_p\": 4.5,\n",
    "  \"etest_p\": 6.04,\n",
    "  \"mba_p\": 19.42,\n",
    "  \"gender\": \"M\",\n",
    "  \"ssc_b\": \"Others\",\n",
    "  \"hsc_b\": \"Others\",\n",
    "  \"hsc_s\": \"Science\",\n",
    "  \"degree_t\": \"Sci&Tech\",\n",
    "  \"workex\": \"No\",\n",
    "  \"specialisation\": \"Mkt&Fin\"\n",
    "}\n",
    "response = requests.post(\"http://127.0.0.1:8000/predict\", json=data)\n",
    "print(response.text)"
   ]
  },
  {
   "cell_type": "code",
   "execution_count": null,
   "id": "02edb76d",
   "metadata": {},
   "outputs": [],
   "source": []
  }
 ],
 "metadata": {
  "kernelspec": {
   "display_name": "Python 3 (ipykernel)",
   "language": "python",
   "name": "python3"
  },
  "language_info": {
   "codemirror_mode": {
    "name": "ipython",
    "version": 3
   },
   "file_extension": ".py",
   "mimetype": "text/x-python",
   "name": "python",
   "nbconvert_exporter": "python",
   "pygments_lexer": "ipython3",
   "version": "3.10.9"
  }
 },
 "nbformat": 4,
 "nbformat_minor": 5
}
